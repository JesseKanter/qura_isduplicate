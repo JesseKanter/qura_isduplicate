{
  "nbformat": 4,
  "nbformat_minor": 0,
  "metadata": {
    "colab": {
      "name": "qura_pocking around.ipynb",
      "version": "0.3.2",
      "provenance": [],
      "collapsed_sections": [],
      "include_colab_link": true
    },
    "kernelspec": {
      "name": "python3",
      "display_name": "Python 3"
    },
    "accelerator": "GPU"
  },
  "cells": [
    {
      "cell_type": "markdown",
      "metadata": {
        "id": "view-in-github",
        "colab_type": "text"
      },
      "source": [
        "<a href=\"https://colab.research.google.com/github/JesseKanter/qura_isduplicate/blob/master/qura_isduplicate.ipynb\" target=\"_parent\"><img src=\"https://colab.research.google.com/assets/colab-badge.svg\" alt=\"Open In Colab\"/></a>"
      ]
    },
    {
      "cell_type": "markdown",
      "metadata": {
        "id": "ffqjBMvOgRRP",
        "colab_type": "text"
      },
      "source": [
        ""
      ]
    },
    {
      "cell_type": "code",
      "metadata": {
        "id": "iWq-SMxAcqKa",
        "colab_type": "code",
        "colab": {}
      },
      "source": [
        ""
      ],
      "execution_count": 0,
      "outputs": []
    },
    {
      "cell_type": "code",
      "metadata": {
        "id": "dnrZpKrcgqoi",
        "colab_type": "code",
        "colab": {}
      },
      "source": [
        ""
      ],
      "execution_count": 0,
      "outputs": []
    },
    {
      "cell_type": "code",
      "metadata": {
        "id": "pneXAB2MEJ8M",
        "colab_type": "code",
        "colab": {}
      },
      "source": [
        "import os"
      ],
      "execution_count": 0,
      "outputs": []
    },
    {
      "cell_type": "code",
      "metadata": {
        "id": "6pKJHr6Pp27f",
        "colab_type": "code",
        "colab": {}
      },
      "source": [
        "colab_mode = True\n",
        "download_rawData = True\n",
        "setup = True\n",
        "\n",
        "ROOT_DIR = '/content/'\n",
        "WEIGHTS_FILENAME = 'qura_LSTM.h5'\n",
        "WEIGHTS_FILE = os.path.join(ROOT_DIR, WEIGHTS_FILENAME)"
      ],
      "execution_count": 0,
      "outputs": []
    },
    {
      "cell_type": "code",
      "metadata": {
        "id": "WXdc1Igdr0EG",
        "colab_type": "code",
        "colab": {}
      },
      "source": [
        "from google.colab import files"
      ],
      "execution_count": 0,
      "outputs": []
    },
    {
      "cell_type": "code",
      "metadata": {
        "id": "YAF-6nCsrpbu",
        "colab_type": "code",
        "outputId": "d7e7f692-5bfb-4d30-898f-4ff05065d3f5",
        "colab": {
          "resources": {
            "http://localhost:8080/nbextensions/google.colab/files.js": {
              "data": "Ly8gQ29weXJpZ2h0IDIwMTcgR29vZ2xlIExMQwovLwovLyBMaWNlbnNlZCB1bmRlciB0aGUgQXBhY2hlIExpY2Vuc2UsIFZlcnNpb24gMi4wICh0aGUgIkxpY2Vuc2UiKTsKLy8geW91IG1heSBub3QgdXNlIHRoaXMgZmlsZSBleGNlcHQgaW4gY29tcGxpYW5jZSB3aXRoIHRoZSBMaWNlbnNlLgovLyBZb3UgbWF5IG9idGFpbiBhIGNvcHkgb2YgdGhlIExpY2Vuc2UgYXQKLy8KLy8gICAgICBodHRwOi8vd3d3LmFwYWNoZS5vcmcvbGljZW5zZXMvTElDRU5TRS0yLjAKLy8KLy8gVW5sZXNzIHJlcXVpcmVkIGJ5IGFwcGxpY2FibGUgbGF3IG9yIGFncmVlZCB0byBpbiB3cml0aW5nLCBzb2Z0d2FyZQovLyBkaXN0cmlidXRlZCB1bmRlciB0aGUgTGljZW5zZSBpcyBkaXN0cmlidXRlZCBvbiBhbiAiQVMgSVMiIEJBU0lTLAovLyBXSVRIT1VUIFdBUlJBTlRJRVMgT1IgQ09ORElUSU9OUyBPRiBBTlkgS0lORCwgZWl0aGVyIGV4cHJlc3Mgb3IgaW1wbGllZC4KLy8gU2VlIHRoZSBMaWNlbnNlIGZvciB0aGUgc3BlY2lmaWMgbGFuZ3VhZ2UgZ292ZXJuaW5nIHBlcm1pc3Npb25zIGFuZAovLyBsaW1pdGF0aW9ucyB1bmRlciB0aGUgTGljZW5zZS4KCi8qKgogKiBAZmlsZW92ZXJ2aWV3IEhlbHBlcnMgZm9yIGdvb2dsZS5jb2xhYiBQeXRob24gbW9kdWxlLgogKi8KKGZ1bmN0aW9uKHNjb3BlKSB7CmZ1bmN0aW9uIHNwYW4odGV4dCwgc3R5bGVBdHRyaWJ1dGVzID0ge30pIHsKICBjb25zdCBlbGVtZW50ID0gZG9jdW1lbnQuY3JlYXRlRWxlbWVudCgnc3BhbicpOwogIGVsZW1lbnQudGV4dENvbnRlbnQgPSB0ZXh0OwogIGZvciAoY29uc3Qga2V5IG9mIE9iamVjdC5rZXlzKHN0eWxlQXR0cmlidXRlcykpIHsKICAgIGVsZW1lbnQuc3R5bGVba2V5XSA9IHN0eWxlQXR0cmlidXRlc1trZXldOwogIH0KICByZXR1cm4gZWxlbWVudDsKfQoKLy8gTWF4IG51bWJlciBvZiBieXRlcyB3aGljaCB3aWxsIGJlIHVwbG9hZGVkIGF0IGEgdGltZS4KY29uc3QgTUFYX1BBWUxPQURfU0laRSA9IDEwMCAqIDEwMjQ7Ci8vIE1heCBhbW91bnQgb2YgdGltZSB0byBibG9jayB3YWl0aW5nIGZvciB0aGUgdXNlci4KY29uc3QgRklMRV9DSEFOR0VfVElNRU9VVF9NUyA9IDMwICogMTAwMDsKCmZ1bmN0aW9uIF91cGxvYWRGaWxlcyhpbnB1dElkLCBvdXRwdXRJZCkgewogIGNvbnN0IHN0ZXBzID0gdXBsb2FkRmlsZXNTdGVwKGlucHV0SWQsIG91dHB1dElkKTsKICBjb25zdCBvdXRwdXRFbGVtZW50ID0gZG9jdW1lbnQuZ2V0RWxlbWVudEJ5SWQob3V0cHV0SWQpOwogIC8vIENhY2hlIHN0ZXBzIG9uIHRoZSBvdXRwdXRFbGVtZW50IHRvIG1ha2UgaXQgYXZhaWxhYmxlIGZvciB0aGUgbmV4dCBjYWxsCiAgLy8gdG8gdXBsb2FkRmlsZXNDb250aW51ZSBmcm9tIFB5dGhvbi4KICBvdXRwdXRFbGVtZW50LnN0ZXBzID0gc3RlcHM7CgogIHJldHVybiBfdXBsb2FkRmlsZXNDb250aW51ZShvdXRwdXRJZCk7Cn0KCi8vIFRoaXMgaXMgcm91Z2hseSBhbiBhc3luYyBnZW5lcmF0b3IgKG5vdCBzdXBwb3J0ZWQgaW4gdGhlIGJyb3dzZXIgeWV0KSwKLy8gd2hlcmUgdGhlcmUgYXJlIG11bHRpcGxlIGFzeW5jaHJvbm91cyBzdGVwcyBhbmQgdGhlIFB5dGhvbiBzaWRlIGlzIGdvaW5nCi8vIHRvIHBvbGwgZm9yIGNvbXBsZXRpb24gb2YgZWFjaCBzdGVwLgovLyBUaGlzIHVzZXMgYSBQcm9taXNlIHRvIGJsb2NrIHRoZSBweXRob24gc2lkZSBvbiBjb21wbGV0aW9uIG9mIGVhY2ggc3RlcCwKLy8gdGhlbiBwYXNzZXMgdGhlIHJlc3VsdCBvZiB0aGUgcHJldmlvdXMgc3RlcCBhcyB0aGUgaW5wdXQgdG8gdGhlIG5leHQgc3RlcC4KZnVuY3Rpb24gX3VwbG9hZEZpbGVzQ29udGludWUob3V0cHV0SWQpIHsKICBjb25zdCBvdXRwdXRFbGVtZW50ID0gZG9jdW1lbnQuZ2V0RWxlbWVudEJ5SWQob3V0cHV0SWQpOwogIGNvbnN0IHN0ZXBzID0gb3V0cHV0RWxlbWVudC5zdGVwczsKCiAgY29uc3QgbmV4dCA9IHN0ZXBzLm5leHQob3V0cHV0RWxlbWVudC5sYXN0UHJvbWlzZVZhbHVlKTsKICByZXR1cm4gUHJvbWlzZS5yZXNvbHZlKG5leHQudmFsdWUucHJvbWlzZSkudGhlbigodmFsdWUpID0+IHsKICAgIC8vIENhY2hlIHRoZSBsYXN0IHByb21pc2UgdmFsdWUgdG8gbWFrZSBpdCBhdmFpbGFibGUgdG8gdGhlIG5leHQKICAgIC8vIHN0ZXAgb2YgdGhlIGdlbmVyYXRvci4KICAgIG91dHB1dEVsZW1lbnQubGFzdFByb21pc2VWYWx1ZSA9IHZhbHVlOwogICAgcmV0dXJuIG5leHQudmFsdWUucmVzcG9uc2U7CiAgfSk7Cn0KCi8qKgogKiBHZW5lcmF0b3IgZnVuY3Rpb24gd2hpY2ggaXMgY2FsbGVkIGJldHdlZW4gZWFjaCBhc3luYyBzdGVwIG9mIHRoZSB1cGxvYWQKICogcHJvY2Vzcy4KICogQHBhcmFtIHtzdHJpbmd9IGlucHV0SWQgRWxlbWVudCBJRCBvZiB0aGUgaW5wdXQgZmlsZSBwaWNrZXIgZWxlbWVudC4KICogQHBhcmFtIHtzdHJpbmd9IG91dHB1dElkIEVsZW1lbnQgSUQgb2YgdGhlIG91dHB1dCBkaXNwbGF5LgogKiBAcmV0dXJuIHshSXRlcmFibGU8IU9iamVjdD59IEl0ZXJhYmxlIG9mIG5leHQgc3RlcHMuCiAqLwpmdW5jdGlvbiogdXBsb2FkRmlsZXNTdGVwKGlucHV0SWQsIG91dHB1dElkKSB7CiAgY29uc3QgaW5wdXRFbGVtZW50ID0gZG9jdW1lbnQuZ2V0RWxlbWVudEJ5SWQoaW5wdXRJZCk7CiAgaW5wdXRFbGVtZW50LmRpc2FibGVkID0gZmFsc2U7CgogIGNvbnN0IG91dHB1dEVsZW1lbnQgPSBkb2N1bWVudC5nZXRFbGVtZW50QnlJZChvdXRwdXRJZCk7CiAgb3V0cHV0RWxlbWVudC5pbm5lckhUTUwgPSAnJzsKCiAgY29uc3QgcGlja2VkUHJvbWlzZSA9IG5ldyBQcm9taXNlKChyZXNvbHZlKSA9PiB7CiAgICBpbnB1dEVsZW1lbnQuYWRkRXZlbnRMaXN0ZW5lcignY2hhbmdlJywgKGUpID0+IHsKICAgICAgcmVzb2x2ZShlLnRhcmdldC5maWxlcyk7CiAgICB9KTsKICB9KTsKCiAgY29uc3QgY2FuY2VsID0gZG9jdW1lbnQuY3JlYXRlRWxlbWVudCgnYnV0dG9uJyk7CiAgaW5wdXRFbGVtZW50LnBhcmVudEVsZW1lbnQuYXBwZW5kQ2hpbGQoY2FuY2VsKTsKICBjYW5jZWwudGV4dENvbnRlbnQgPSAnQ2FuY2VsIHVwbG9hZCc7CiAgY29uc3QgY2FuY2VsUHJvbWlzZSA9IG5ldyBQcm9taXNlKChyZXNvbHZlKSA9PiB7CiAgICBjYW5jZWwub25jbGljayA9ICgpID0+IHsKICAgICAgcmVzb2x2ZShudWxsKTsKICAgIH07CiAgfSk7CgogIC8vIENhbmNlbCB1cGxvYWQgaWYgdXNlciBoYXNuJ3QgcGlja2VkIGFueXRoaW5nIGluIHRpbWVvdXQuCiAgY29uc3QgdGltZW91dFByb21pc2UgPSBuZXcgUHJvbWlzZSgocmVzb2x2ZSkgPT4gewogICAgc2V0VGltZW91dCgoKSA9PiB7CiAgICAgIHJlc29sdmUobnVsbCk7CiAgICB9LCBGSUxFX0NIQU5HRV9USU1FT1VUX01TKTsKICB9KTsKCiAgLy8gV2FpdCBmb3IgdGhlIHVzZXIgdG8gcGljayB0aGUgZmlsZXMuCiAgY29uc3QgZmlsZXMgPSB5aWVsZCB7CiAgICBwcm9taXNlOiBQcm9taXNlLnJhY2UoW3BpY2tlZFByb21pc2UsIHRpbWVvdXRQcm9taXNlLCBjYW5jZWxQcm9taXNlXSksCiAgICByZXNwb25zZTogewogICAgICBhY3Rpb246ICdzdGFydGluZycsCiAgICB9CiAgfTsKCiAgaWYgKCFmaWxlcykgewogICAgcmV0dXJuIHsKICAgICAgcmVzcG9uc2U6IHsKICAgICAgICBhY3Rpb246ICdjb21wbGV0ZScsCiAgICAgIH0KICAgIH07CiAgfQoKICBjYW5jZWwucmVtb3ZlKCk7CgogIC8vIERpc2FibGUgdGhlIGlucHV0IGVsZW1lbnQgc2luY2UgZnVydGhlciBwaWNrcyBhcmUgbm90IGFsbG93ZWQuCiAgaW5wdXRFbGVtZW50LmRpc2FibGVkID0gdHJ1ZTsKCiAgZm9yIChjb25zdCBmaWxlIG9mIGZpbGVzKSB7CiAgICBjb25zdCBsaSA9IGRvY3VtZW50LmNyZWF0ZUVsZW1lbnQoJ2xpJyk7CiAgICBsaS5hcHBlbmQoc3BhbihmaWxlLm5hbWUsIHtmb250V2VpZ2h0OiAnYm9sZCd9KSk7CiAgICBsaS5hcHBlbmQoc3BhbigKICAgICAgICBgKCR7ZmlsZS50eXBlIHx8ICduL2EnfSkgLSAke2ZpbGUuc2l6ZX0gYnl0ZXMsIGAgKwogICAgICAgIGBsYXN0IG1vZGlmaWVkOiAkewogICAgICAgICAgICBmaWxlLmxhc3RNb2RpZmllZERhdGUgPyBmaWxlLmxhc3RNb2RpZmllZERhdGUudG9Mb2NhbGVEYXRlU3RyaW5nKCkgOgogICAgICAgICAgICAgICAgICAgICAgICAgICAgICAgICAgICAnbi9hJ30gLSBgKSk7CiAgICBjb25zdCBwZXJjZW50ID0gc3BhbignMCUgZG9uZScpOwogICAgbGkuYXBwZW5kQ2hpbGQocGVyY2VudCk7CgogICAgb3V0cHV0RWxlbWVudC5hcHBlbmRDaGlsZChsaSk7CgogICAgY29uc3QgZmlsZURhdGFQcm9taXNlID0gbmV3IFByb21pc2UoKHJlc29sdmUpID0+IHsKICAgICAgY29uc3QgcmVhZGVyID0gbmV3IEZpbGVSZWFkZXIoKTsKICAgICAgcmVhZGVyLm9ubG9hZCA9IChlKSA9PiB7CiAgICAgICAgcmVzb2x2ZShlLnRhcmdldC5yZXN1bHQpOwogICAgICB9OwogICAgICByZWFkZXIucmVhZEFzQXJyYXlCdWZmZXIoZmlsZSk7CiAgICB9KTsKICAgIC8vIFdhaXQgZm9yIHRoZSBkYXRhIHRvIGJlIHJlYWR5LgogICAgbGV0IGZpbGVEYXRhID0geWllbGQgewogICAgICBwcm9taXNlOiBmaWxlRGF0YVByb21pc2UsCiAgICAgIHJlc3BvbnNlOiB7CiAgICAgICAgYWN0aW9uOiAnY29udGludWUnLAogICAgICB9CiAgICB9OwoKICAgIC8vIFVzZSBhIGNodW5rZWQgc2VuZGluZyB0byBhdm9pZCBtZXNzYWdlIHNpemUgbGltaXRzLiBTZWUgYi82MjExNTY2MC4KICAgIGxldCBwb3NpdGlvbiA9IDA7CiAgICB3aGlsZSAocG9zaXRpb24gPCBmaWxlRGF0YS5ieXRlTGVuZ3RoKSB7CiAgICAgIGNvbnN0IGxlbmd0aCA9IE1hdGgubWluKGZpbGVEYXRhLmJ5dGVMZW5ndGggLSBwb3NpdGlvbiwgTUFYX1BBWUxPQURfU0laRSk7CiAgICAgIGNvbnN0IGNodW5rID0gbmV3IFVpbnQ4QXJyYXkoZmlsZURhdGEsIHBvc2l0aW9uLCBsZW5ndGgpOwogICAgICBwb3NpdGlvbiArPSBsZW5ndGg7CgogICAgICBjb25zdCBiYXNlNjQgPSBidG9hKFN0cmluZy5mcm9tQ2hhckNvZGUuYXBwbHkobnVsbCwgY2h1bmspKTsKICAgICAgeWllbGQgewogICAgICAgIHJlc3BvbnNlOiB7CiAgICAgICAgICBhY3Rpb246ICdhcHBlbmQnLAogICAgICAgICAgZmlsZTogZmlsZS5uYW1lLAogICAgICAgICAgZGF0YTogYmFzZTY0LAogICAgICAgIH0sCiAgICAgIH07CiAgICAgIHBlcmNlbnQudGV4dENvbnRlbnQgPQogICAgICAgICAgYCR7TWF0aC5yb3VuZCgocG9zaXRpb24gLyBmaWxlRGF0YS5ieXRlTGVuZ3RoKSAqIDEwMCl9JSBkb25lYDsKICAgIH0KICB9CgogIC8vIEFsbCBkb25lLgogIHlpZWxkIHsKICAgIHJlc3BvbnNlOiB7CiAgICAgIGFjdGlvbjogJ2NvbXBsZXRlJywKICAgIH0KICB9Owp9CgpzY29wZS5nb29nbGUgPSBzY29wZS5nb29nbGUgfHwge307CnNjb3BlLmdvb2dsZS5jb2xhYiA9IHNjb3BlLmdvb2dsZS5jb2xhYiB8fCB7fTsKc2NvcGUuZ29vZ2xlLmNvbGFiLl9maWxlcyA9IHsKICBfdXBsb2FkRmlsZXMsCiAgX3VwbG9hZEZpbGVzQ29udGludWUsCn07Cn0pKHNlbGYpOwo=",
              "ok": true,
              "headers": [
                [
                  "content-type",
                  "application/javascript"
                ]
              ],
              "status": 200,
              "status_text": ""
            }
          },
          "base_uri": "https://localhost:8080/",
          "height": 71
        }
      },
      "source": [
        "if colab_mode and download_rawData:\n",
        "  files.upload()"
      ],
      "execution_count": 0,
      "outputs": [
        {
          "output_type": "display_data",
          "data": {
            "text/html": [
              "\n",
              "     <input type=\"file\" id=\"files-eb19dd1e-8bc8-40ce-9adf-33ecb48cd3ac\" name=\"files[]\" multiple disabled />\n",
              "     <output id=\"result-eb19dd1e-8bc8-40ce-9adf-33ecb48cd3ac\">\n",
              "      Upload widget is only available when the cell has been executed in the\n",
              "      current browser session. Please rerun this cell to enable.\n",
              "      </output>\n",
              "      <script src=\"/nbextensions/google.colab/files.js\"></script> "
            ],
            "text/plain": [
              "<IPython.core.display.HTML object>"
            ]
          },
          "metadata": {
            "tags": []
          }
        },
        {
          "output_type": "stream",
          "text": [
            "Saving kaggle.json to kaggle.json\n"
          ],
          "name": "stdout"
        }
      ]
    },
    {
      "cell_type": "code",
      "metadata": {
        "id": "3l3D0SasuCEc",
        "colab_type": "code",
        "colab": {}
      },
      "source": [
        "if colab_mode and download_rawData:\n",
        "  ! mkdir /root/.kaggle/\n",
        "  ! mv /content/kaggle.json /root/.kaggle/"
      ],
      "execution_count": 0,
      "outputs": []
    },
    {
      "cell_type": "code",
      "metadata": {
        "id": "E712QDqys-fv",
        "colab_type": "code",
        "outputId": "b2530892-d8e8-427b-b1a6-06445a2f656e",
        "colab": {
          "base_uri": "https://localhost:8080/",
          "height": 204
        }
      },
      "source": [
        "if setup:\n",
        "  ! pip install kaggle"
      ],
      "execution_count": 0,
      "outputs": [
        {
          "output_type": "stream",
          "text": [
            "Requirement already satisfied: kaggle in /usr/local/lib/python3.6/dist-packages (1.5.4)\n",
            "Requirement already satisfied: six>=1.10 in /usr/local/lib/python3.6/dist-packages (from kaggle) (1.12.0)\n",
            "Requirement already satisfied: urllib3<1.25,>=1.21.1 in /usr/local/lib/python3.6/dist-packages (from kaggle) (1.24.3)\n",
            "Requirement already satisfied: python-dateutil in /usr/local/lib/python3.6/dist-packages (from kaggle) (2.5.3)\n",
            "Requirement already satisfied: python-slugify in /usr/local/lib/python3.6/dist-packages (from kaggle) (3.0.2)\n",
            "Requirement already satisfied: tqdm in /usr/local/lib/python3.6/dist-packages (from kaggle) (4.28.1)\n",
            "Requirement already satisfied: certifi in /usr/local/lib/python3.6/dist-packages (from kaggle) (2019.6.16)\n",
            "Requirement already satisfied: requests in /usr/local/lib/python3.6/dist-packages (from kaggle) (2.21.0)\n",
            "Requirement already satisfied: text-unidecode==1.2 in /usr/local/lib/python3.6/dist-packages (from python-slugify->kaggle) (1.2)\n",
            "Requirement already satisfied: idna<2.9,>=2.5 in /usr/local/lib/python3.6/dist-packages (from requests->kaggle) (2.8)\n",
            "Requirement already satisfied: chardet<3.1.0,>=3.0.2 in /usr/local/lib/python3.6/dist-packages (from requests->kaggle) (3.0.4)\n"
          ],
          "name": "stdout"
        }
      ]
    },
    {
      "cell_type": "markdown",
      "metadata": {
        "id": "aBJFWWGltrgI",
        "colab_type": "text"
      },
      "source": [
        "## Download the Quora Question Pairs dataset"
      ]
    },
    {
      "cell_type": "code",
      "metadata": {
        "id": "T71LYV58tfwh",
        "colab_type": "code",
        "outputId": "3b6f9224-7637-48a4-cd83-63f1b6015421",
        "colab": {
          "base_uri": "https://localhost:8080/",
          "height": 207
        }
      },
      "source": [
        "! kaggle competitions download -c quora-question-pairs"
      ],
      "execution_count": 0,
      "outputs": [
        {
          "output_type": "stream",
          "text": [
            "Warning: Your Kaggle API key is readable by other users on this system! To fix this, you can run 'chmod 600 /root/.kaggle/kaggle.json'\n",
            "Downloading sample_submission.csv.zip to /content\n",
            "100% 4.95M/4.95M [00:00<00:00, 43.7MB/s]\n",
            "\n",
            "Downloading train.csv.zip to /content\n",
            " 80% 17.0M/21.2M [00:00<00:00, 20.5MB/s]\n",
            "100% 21.2M/21.2M [00:00<00:00, 23.0MB/s]\n",
            "Downloading test.csv.zip to /content\n",
            " 93% 105M/112M [00:02<00:00, 56.2MB/s] \n",
            "100% 112M/112M [00:02<00:00, 55.6MB/s]\n"
          ],
          "name": "stdout"
        }
      ]
    },
    {
      "cell_type": "code",
      "metadata": {
        "id": "eKgkuvnYDzQi",
        "colab_type": "code",
        "colab": {}
      },
      "source": [
        "#! kaggle datasets download -d terenceliu4444/glove6b100dtxt"
      ],
      "execution_count": 0,
      "outputs": []
    },
    {
      "cell_type": "code",
      "metadata": {
        "id": "-t0de0Cjt96Z",
        "colab_type": "code",
        "colab": {}
      },
      "source": [
        "! rm /root/.kaggle/kaggle.json"
      ],
      "execution_count": 0,
      "outputs": []
    },
    {
      "cell_type": "code",
      "metadata": {
        "id": "196G7hKXvVTr",
        "colab_type": "code",
        "colab": {}
      },
      "source": [
        "if setup:\n",
        "  ! unzip -q /content/train.csv.zip\n",
        "  ! unzip -q /content/test.csv.zip\n",
        "  ! unzip -q /content/sample_submission.csv.zip"
      ],
      "execution_count": 0,
      "outputs": []
    },
    {
      "cell_type": "code",
      "metadata": {
        "id": "tujwbddWeGqL",
        "colab_type": "code",
        "colab": {}
      },
      "source": [
        ""
      ],
      "execution_count": 0,
      "outputs": []
    },
    {
      "cell_type": "code",
      "metadata": {
        "id": "1LbL15rH2aXF",
        "colab_type": "code",
        "colab": {}
      },
      "source": [
        "import numpy as np # linear algebra\n",
        "import pandas as pd # data processing, CSV file I/O (e.g. pd.read_csv)\n",
        "from collections import defaultdict"
      ],
      "execution_count": 0,
      "outputs": []
    },
    {
      "cell_type": "code",
      "metadata": {
        "id": "C54PzQ5o2fsV",
        "colab_type": "code",
        "colab": {}
      },
      "source": [
        "train_orig =  pd.read_csv('train.csv', header=0)\n",
        "test_orig =  pd.read_csv('test.csv', header=0)\n",
        "\n",
        "train_orig['question1'].fillna('', inplace=True)\n",
        "train_orig['question2'].fillna('', inplace=True)\n",
        "\n",
        "test_orig['question1'].fillna('', inplace=True)\n",
        "test_orig['question2'].fillna('', inplace=True)\n"
      ],
      "execution_count": 0,
      "outputs": []
    },
    {
      "cell_type": "code",
      "metadata": {
        "id": "jHCVBeb3el29",
        "colab_type": "code",
        "colab": {}
      },
      "source": [
        "import string\n",
        "from nltk.corpus import stopwords"
      ],
      "execution_count": 0,
      "outputs": []
    },
    {
      "cell_type": "code",
      "metadata": {
        "id": "6_8j8mzpKzjt",
        "colab_type": "code",
        "outputId": "cec233ce-4b37-4618-b15a-139f8b7ea3f4",
        "colab": {
          "base_uri": "https://localhost:8080/",
          "height": 68
        }
      },
      "source": [
        "\n",
        "import nltk\n",
        "nltk.download('stopwords')"
      ],
      "execution_count": 0,
      "outputs": [
        {
          "output_type": "stream",
          "text": [
            "[nltk_data] Downloading package stopwords to /root/nltk_data...\n",
            "[nltk_data]   Unzipping corpora/stopwords.zip.\n"
          ],
          "name": "stdout"
        },
        {
          "output_type": "execute_result",
          "data": {
            "text/plain": [
              "True"
            ]
          },
          "metadata": {
            "tags": []
          },
          "execution_count": 13
        }
      ]
    },
    {
      "cell_type": "code",
      "metadata": {
        "id": "GIqi6vI2CW8s",
        "colab_type": "code",
        "colab": {}
      },
      "source": [
        "common_words=stopwords.words('english') #['what', 'why', 'is', 'the', 'a', 'i', 'how', 'by', 'to', 'in']"
      ],
      "execution_count": 0,
      "outputs": []
    },
    {
      "cell_type": "code",
      "metadata": {
        "id": "giIdLJ4T_cuE",
        "colab_type": "code",
        "colab": {}
      },
      "source": [
        ""
      ],
      "execution_count": 0,
      "outputs": []
    },
    {
      "cell_type": "code",
      "metadata": {
        "id": "PfqlAfYy9Apt",
        "colab_type": "code",
        "colab": {}
      },
      "source": [
        "def clean_questions(row):\n",
        "  new_row=row.copy()\n",
        "  #make  questions lower case\n",
        "  new_row[0]=new_row[0].lower()\n",
        "  new_row[1]=new_row[1].lower()\n",
        "  \n",
        "  #remove punctuation\n",
        "  new_row[0] = [char for char in new_row[0] if char not in string.punctuation]\n",
        "  new_row[0] = ''.join(new_row[0])\n",
        "  new_row[1] = [char for char in new_row[1] if char not in string.punctuation]\n",
        "  new_row[1] = ''.join(new_row[1])\n",
        "  \n",
        "  #remove stop words\n",
        "  new_row[0] = [word for word in new_row[0].split() if word not in common_words]\n",
        "  new_row[0] = ' '.join(new_row[0])\n",
        "  new_row[1] = [word for word in new_row[1].split() if word not in common_words]\n",
        "  new_row[1] = ' '.join(new_row[1])\n",
        "  \n",
        "  return new_row\n",
        "  \n",
        "  \n"
      ],
      "execution_count": 0,
      "outputs": []
    },
    {
      "cell_type": "code",
      "metadata": {
        "id": "IN0Czcn69Cit",
        "colab_type": "code",
        "colab": {}
      },
      "source": [
        "train_orig[['clean_question1','clean_question2']] = train_orig[['question1','question2']].apply(clean_questions, axis=1, raw=True)\n"
      ],
      "execution_count": 0,
      "outputs": []
    },
    {
      "cell_type": "code",
      "metadata": {
        "id": "4hZEx_ef0C-j",
        "colab_type": "code",
        "colab": {}
      },
      "source": [
        "test_orig[['clean_question1','clean_question2']] = test_orig[['question1','question2']].apply(clean_questions, axis=1, raw=True)"
      ],
      "execution_count": 0,
      "outputs": []
    },
    {
      "cell_type": "code",
      "metadata": {
        "id": "oH5LbgPFfycN",
        "colab_type": "code",
        "colab": {}
      },
      "source": [
        ""
      ],
      "execution_count": 0,
      "outputs": []
    },
    {
      "cell_type": "code",
      "metadata": {
        "id": "GDguwO2ZFxo3",
        "colab_type": "code",
        "colab": {}
      },
      "source": [
        "def sim_words_ratio(row):\n",
        "  s1=row[0].lower()\n",
        "  s2=row[1].lower()\n",
        "  set1=set(s1.split())\n",
        "  set2=set(s2.split())\n",
        "  norm_fac=1\n",
        "  if 0 not in [len(set1),len(set2)]:\n",
        "    norm_fac=max([len(set1),len(set2)])   \n",
        "  return len(set1.intersection(set2))/norm_fac\n",
        "  "
      ],
      "execution_count": 0,
      "outputs": []
    },
    {
      "cell_type": "code",
      "metadata": {
        "id": "I2i68lToT280",
        "colab_type": "code",
        "colab": {}
      },
      "source": [
        "train_orig['q1_q2_same_word_ratio'] = train_orig[['clean_question1','clean_question2']].apply(sim_words_ratio, axis=1, raw=True)\n",
        "test_orig['q1_q2_same_word_ratio'] = test_orig[['clean_question1','clean_question2']].apply(sim_words_ratio, axis=1, raw=True)"
      ],
      "execution_count": 0,
      "outputs": []
    },
    {
      "cell_type": "code",
      "metadata": {
        "id": "NLCSuq7neCRx",
        "colab_type": "code",
        "colab": {}
      },
      "source": [
        "import matplotlib.pyplot as plt\n",
        "import seaborn as sns\n",
        "%matplotlib inline"
      ],
      "execution_count": 0,
      "outputs": []
    },
    {
      "cell_type": "code",
      "metadata": {
        "id": "9JEk02WKeO0Y",
        "colab_type": "code",
        "outputId": "7beb65d0-8ac6-4916-af9f-9c4a2ba3ede7",
        "colab": {
          "base_uri": "https://localhost:8080/",
          "height": 168
        }
      },
      "source": [
        "train_orig.head(1)"
      ],
      "execution_count": 0,
      "outputs": [
        {
          "output_type": "execute_result",
          "data": {
            "text/html": [
              "<div>\n",
              "<style scoped>\n",
              "    .dataframe tbody tr th:only-of-type {\n",
              "        vertical-align: middle;\n",
              "    }\n",
              "\n",
              "    .dataframe tbody tr th {\n",
              "        vertical-align: top;\n",
              "    }\n",
              "\n",
              "    .dataframe thead th {\n",
              "        text-align: right;\n",
              "    }\n",
              "</style>\n",
              "<table border=\"1\" class=\"dataframe\">\n",
              "  <thead>\n",
              "    <tr style=\"text-align: right;\">\n",
              "      <th></th>\n",
              "      <th>id</th>\n",
              "      <th>qid1</th>\n",
              "      <th>qid2</th>\n",
              "      <th>question1</th>\n",
              "      <th>question2</th>\n",
              "      <th>is_duplicate</th>\n",
              "      <th>clean_question1</th>\n",
              "      <th>clean_question2</th>\n",
              "      <th>q1_q2_same_word_ratio</th>\n",
              "      <th>uwords_question1</th>\n",
              "      <th>uwords_question2</th>\n",
              "    </tr>\n",
              "  </thead>\n",
              "  <tbody>\n",
              "    <tr>\n",
              "      <th>0</th>\n",
              "      <td>0</td>\n",
              "      <td>1</td>\n",
              "      <td>2</td>\n",
              "      <td>What is the step by step guide to invest in sh...</td>\n",
              "      <td>What is the step by step guide to invest in sh...</td>\n",
              "      <td>0</td>\n",
              "      <td>step step guide invest share market india</td>\n",
              "      <td>step step guide invest share market</td>\n",
              "      <td>0.833333</td>\n",
              "      <td>india</td>\n",
              "      <td></td>\n",
              "    </tr>\n",
              "  </tbody>\n",
              "</table>\n",
              "</div>"
            ],
            "text/plain": [
              "   id  qid1  qid2  ... q1_q2_same_word_ratio uwords_question1  uwords_question2\n",
              "0   0     1     2  ...              0.833333            india                  \n",
              "\n",
              "[1 rows x 11 columns]"
            ]
          },
          "metadata": {
            "tags": []
          },
          "execution_count": 81
        }
      ]
    },
    {
      "cell_type": "code",
      "metadata": {
        "id": "I2UfUm5MeXeH",
        "colab_type": "code",
        "outputId": "ff92c577-9ce6-48eb-c6bd-21699ed0a3f5",
        "colab": {
          "base_uri": "https://localhost:8080/",
          "height": 308
        }
      },
      "source": [
        "sns.set(style=\"whitegrid\")\n",
        "sns.violinplot(x='is_duplicate',y='q1_q2_same_word_ratio',data=train_orig)"
      ],
      "execution_count": 0,
      "outputs": [
        {
          "output_type": "execute_result",
          "data": {
            "text/plain": [
              "<matplotlib.axes._subplots.AxesSubplot at 0x7f0030dea358>"
            ]
          },
          "metadata": {
            "tags": []
          },
          "execution_count": 34
        },
        {
          "output_type": "display_data",
          "data": {
            "image/png": "[encoded data removed]",
            "text/plain": [
              "<Figure size 432x288 with 1 Axes>"
            ]
          },
          "metadata": {
            "tags": []
          }
        }
      ]
    },
    {
      "cell_type": "code",
      "metadata": {
        "id": "7GcKyaRTemYF",
        "colab_type": "code",
        "colab": {}
      },
      "source": [
        "def diff_words(row):\n",
        "  new_row=row.copy()\n",
        "\n",
        "  \n",
        "  new_row[0]=new_row[0].lower()\n",
        "  new_row[1]=new_row[1].lower()\n",
        " \n",
        "  s1_new=[word for word in new_row[0].split() if word not in new_row[1].split()]\n",
        "  new_row[1]=[word for word in new_row[1].split() if word not in new_row[0].split()]\n",
        "  \n",
        "  \n",
        "  new_row[0]=s1_new\n",
        "  \n",
        "  new_row[0] = ' '.join(new_row[0])\n",
        "  new_row[1] = ' '.join(new_row[1])\n",
        "  \n",
        "  return new_row\n",
        "  "
      ],
      "execution_count": 0,
      "outputs": []
    },
    {
      "cell_type": "code",
      "metadata": {
        "id": "JXGGNrzSjWH_",
        "colab_type": "code",
        "colab": {}
      },
      "source": [
        "train_orig[['uwords_question1','uwords_question2']] = train_orig[['clean_question1','clean_question2']].apply(diff_words, axis=1, raw=True)\n"
      ],
      "execution_count": 0,
      "outputs": []
    },
    {
      "cell_type": "code",
      "metadata": {
        "id": "CekXbFjGjfKd",
        "colab_type": "code",
        "colab": {}
      },
      "source": [
        "test_orig[['uwords_question1','uwords_question2']] = test_orig[['clean_question1','clean_question2']].apply(diff_words, axis=1, raw=True)\n"
      ],
      "execution_count": 0,
      "outputs": []
    },
    {
      "cell_type": "code",
      "metadata": {
        "id": "GEIefL9okJik",
        "colab_type": "code",
        "outputId": "b851533e-e528-4003-f478-d5e105e84873",
        "colab": {
          "base_uri": "https://localhost:8080/",
          "height": 173
        }
      },
      "source": [
        "df_all = pd.concat((train_orig, test_orig))\n"
      ],
      "execution_count": 0,
      "outputs": [
        {
          "output_type": "stream",
          "text": [
            "/usr/local/lib/python3.6/dist-packages/ipykernel_launcher.py:1: FutureWarning: Sorting because non-concatenation axis is not aligned. A future version\n",
            "of pandas will change to not sort by default.\n",
            "\n",
            "To accept the future behavior, pass 'sort=False'.\n",
            "\n",
            "To retain the current behavior and silence the warning, pass 'sort=True'.\n",
            "\n",
            "  \"\"\"Entry point for launching an IPython kernel.\n"
          ],
          "name": "stderr"
        }
      ]
    },
    {
      "cell_type": "code",
      "metadata": {
        "id": "QtbbDFkvngpn",
        "colab_type": "code",
        "outputId": "ea5181c8-6d88-4307-9731-a24e922bb146",
        "colab": {
          "base_uri": "https://localhost:8080/",
          "height": 284
        }
      },
      "source": [
        "df_all.tail(2)"
      ],
      "execution_count": 0,
      "outputs": [
        {
          "output_type": "execute_result",
          "data": {
            "text/html": [
              "<div>\n",
              "<style scoped>\n",
              "    .dataframe tbody tr th:only-of-type {\n",
              "        vertical-align: middle;\n",
              "    }\n",
              "\n",
              "    .dataframe tbody tr th {\n",
              "        vertical-align: top;\n",
              "    }\n",
              "\n",
              "    .dataframe thead th {\n",
              "        text-align: right;\n",
              "    }\n",
              "</style>\n",
              "<table border=\"1\" class=\"dataframe\">\n",
              "  <thead>\n",
              "    <tr style=\"text-align: right;\">\n",
              "      <th></th>\n",
              "      <th>clean_question1</th>\n",
              "      <th>clean_question2</th>\n",
              "      <th>id</th>\n",
              "      <th>is_duplicate</th>\n",
              "      <th>q1_q2_same_word_ratio</th>\n",
              "      <th>qid1</th>\n",
              "      <th>qid2</th>\n",
              "      <th>question1</th>\n",
              "      <th>question2</th>\n",
              "      <th>test_id</th>\n",
              "      <th>uwords_question1</th>\n",
              "      <th>uwords_question2</th>\n",
              "    </tr>\n",
              "  </thead>\n",
              "  <tbody>\n",
              "    <tr>\n",
              "      <th>2345794</th>\n",
              "      <td>best worst things public transit proddatur and...</td>\n",
              "      <td>best worst things examination public transit v...</td>\n",
              "      <td>NaN</td>\n",
              "      <td>NaN</td>\n",
              "      <td>0.833333</td>\n",
              "      <td>NaN</td>\n",
              "      <td>NaN</td>\n",
              "      <td>What were the best and worst things about publ...</td>\n",
              "      <td>What are the best and worst things examination...</td>\n",
              "      <td>2345794.0</td>\n",
              "      <td>proddatur</td>\n",
              "      <td>examination visakhapatnam</td>\n",
              "    </tr>\n",
              "    <tr>\n",
              "      <th>2345795</th>\n",
              "      <td>best medication equation erectile dysfunction</td>\n",
              "      <td>get rid erectile dysfunction</td>\n",
              "      <td>NaN</td>\n",
              "      <td>NaN</td>\n",
              "      <td>0.400000</td>\n",
              "      <td>NaN</td>\n",
              "      <td>NaN</td>\n",
              "      <td>What is the best medication equation erectile ...</td>\n",
              "      <td>How do I out get rid of Erectile Dysfunction?</td>\n",
              "      <td>2345795.0</td>\n",
              "      <td>best medication equation</td>\n",
              "      <td>get rid</td>\n",
              "    </tr>\n",
              "  </tbody>\n",
              "</table>\n",
              "</div>"
            ],
            "text/plain": [
              "                                           clean_question1  ...           uwords_question2\n",
              "2345794  best worst things public transit proddatur and...  ...  examination visakhapatnam\n",
              "2345795      best medication equation erectile dysfunction  ...                    get rid\n",
              "\n",
              "[2 rows x 12 columns]"
            ]
          },
          "metadata": {
            "tags": []
          },
          "execution_count": 49
        }
      ]
    },
    {
      "cell_type": "markdown",
      "metadata": {
        "id": "f8b0tDIwM232",
        "colab_type": "text"
      },
      "source": [
        "#Create Vocab"
      ]
    },
    {
      "cell_type": "code",
      "metadata": {
        "id": "bsD1oLshM1gx",
        "colab_type": "code",
        "colab": {}
      },
      "source": [
        "from sklearn.feature_extraction.text import CountVectorizer\n",
        "import itertools"
      ],
      "execution_count": 0,
      "outputs": []
    },
    {
      "cell_type": "code",
      "metadata": {
        "id": "Llyyj3bFM-vh",
        "colab_type": "code",
        "colab": {}
      },
      "source": [
        "counts_vectorizer = CountVectorizer(max_features=10000-1).fit(itertools.chain(df_all['clean_question1'], df_all['clean_question2']))\n",
        "other_index = len(counts_vectorizer.vocabulary_)"
      ],
      "execution_count": 0,
      "outputs": []
    },
    {
      "cell_type": "code",
      "metadata": {
        "id": "KHkdsrvTNAxB",
        "colab_type": "code",
        "outputId": "c5db5259-e2db-4ac3-cd62-109d7172a2be",
        "colab": {
          "base_uri": "https://localhost:8080/",
          "height": 34
        }
      },
      "source": [
        "other_index"
      ],
      "execution_count": 0,
      "outputs": [
        {
          "output_type": "execute_result",
          "data": {
            "text/plain": [
              "9999"
            ]
          },
          "metadata": {
            "tags": []
          },
          "execution_count": 31
        }
      ]
    },
    {
      "cell_type": "markdown",
      "metadata": {
        "id": "eRAKoqrFNRA5",
        "colab_type": "text"
      },
      "source": [
        "# Prep Data\n"
      ]
    },
    {
      "cell_type": "code",
      "metadata": {
        "id": "cWmeiJ2fNSgp",
        "colab_type": "code",
        "outputId": "000be2fc-f3db-4e83-d50c-2e8dd9d6b639",
        "colab": {
          "base_uri": "https://localhost:8080/",
          "height": 85
        }
      },
      "source": [
        "import re\n",
        "from keras.preprocessing.sequence import pad_sequences\n",
        "from sklearn.model_selection import train_test_split\n",
        "from nltk.tokenize import word_tokenize\n",
        "nltk.download('punkt')"
      ],
      "execution_count": 0,
      "outputs": [
        {
          "output_type": "stream",
          "text": [
            "Using TensorFlow backend.\n"
          ],
          "name": "stderr"
        },
        {
          "output_type": "stream",
          "text": [
            "[nltk_data] Downloading package punkt to /root/nltk_data...\n",
            "[nltk_data]   Unzipping tokenizers/punkt.zip.\n"
          ],
          "name": "stdout"
        },
        {
          "output_type": "execute_result",
          "data": {
            "text/plain": [
              "True"
            ]
          },
          "metadata": {
            "tags": []
          },
          "execution_count": 27
        }
      ]
    },
    {
      "cell_type": "code",
      "metadata": {
        "id": "zqpvqIBmNUyx",
        "colab_type": "code",
        "colab": {}
      },
      "source": [
        "words_tokenizer = re.compile(counts_vectorizer.token_pattern)"
      ],
      "execution_count": 0,
      "outputs": []
    },
    {
      "cell_type": "code",
      "metadata": {
        "id": "lA86lfsc8Hs8",
        "colab_type": "code",
        "colab": {}
      },
      "source": [
        "def find_max_words(X):\n",
        "  #r_len=[]\n",
        "  max=1\n",
        "  for text in X:\n",
        "      word=word_tokenize(text)\n",
        "      le=len(word)\n",
        "      #r_len.append(l)\n",
        "      if le>max:\n",
        "        max=le\n",
        "    \n",
        "  #MAX_REVIEW_LEN=np.max(r_len)\n",
        "  return max #MAX_REVIEW_LEN"
      ],
      "execution_count": 0,
      "outputs": []
    },
    {
      "cell_type": "code",
      "metadata": {
        "id": "Mts3_rau8H0_",
        "colab_type": "code",
        "colab": {}
      },
      "source": [
        "#find_max_words(df_all.uwords_question1.values)"
      ],
      "execution_count": 0,
      "outputs": []
    },
    {
      "cell_type": "code",
      "metadata": {
        "id": "dIkzgX3uNX85",
        "colab_type": "code",
        "colab": {}
      },
      "source": [
        "def create_padded_seqs(texts, max_len=10):\n",
        "    seqs = texts.apply(lambda s: \n",
        "        [counts_vectorizer.vocabulary_[w] if w in counts_vectorizer.vocabulary_ else other_index\n",
        "         for w in words_tokenizer.findall(s.lower())])\n",
        "    return pad_sequences(seqs, maxlen=max_len)\n",
        "\n"
      ],
      "execution_count": 0,
      "outputs": []
    },
    {
      "cell_type": "code",
      "metadata": {
        "id": "emNywKTMzjhU",
        "colab_type": "code",
        "colab": {}
      },
      "source": [
        ""
      ],
      "execution_count": 0,
      "outputs": []
    },
    {
      "cell_type": "code",
      "metadata": {
        "id": "4WqnIxDqzjoY",
        "colab_type": "code",
        "colab": {}
      },
      "source": [
        ""
      ],
      "execution_count": 0,
      "outputs": []
    },
    {
      "cell_type": "markdown",
      "metadata": {
        "id": "XZEFBH2wNnEN",
        "colab_type": "text"
      },
      "source": [
        "I think the point of create_padded_seqs, is to take an input text and only keep the words that we put in vocab, and give a padding if not"
      ]
    },
    {
      "cell_type": "code",
      "metadata": {
        "id": "zDk2fWXTNjgR",
        "colab_type": "code",
        "colab": {}
      },
      "source": [
        "Xr_train, Xr_val, X1_train, X1_val, X2_train, X2_val, y_train, y_val = \\\n",
        "    train_test_split(df_all[df_all['id'].notnull()]['q1_q2_same_word_ratio'], create_padded_seqs(df_all[df_all['id'].notnull()]['clean_question1']), \n",
        "                     create_padded_seqs(df_all[df_all['id'].notnull()]['clean_question2']),\n",
        "                     df_all[df_all['id'].notnull()]['is_duplicate'].values,\n",
        "                     stratify=df_all[df_all['id'].notnull()]['is_duplicate'].values,\n",
        "                     test_size=0.3, random_state=1989)"
      ],
      "execution_count": 0,
      "outputs": []
    },
    {
      "cell_type": "code",
      "metadata": {
        "id": "sySd1L-m4eKb",
        "colab_type": "code",
        "outputId": "27be4479-1242-4f79-a46a-a4559fa2d06c",
        "colab": {
          "base_uri": "https://localhost:8080/",
          "height": 34
        }
      },
      "source": [
        "X2_train.max()"
      ],
      "execution_count": 0,
      "outputs": [
        {
          "output_type": "execute_result",
          "data": {
            "text/plain": [
              "9999"
            ]
          },
          "metadata": {
            "tags": []
          },
          "execution_count": 36
        }
      ]
    },
    {
      "cell_type": "code",
      "metadata": {
        "id": "wmsXlC2T0Ohu",
        "colab_type": "code",
        "colab": {}
      },
      "source": [
        "import keras.layers as lyr\n",
        "from keras.models import Model"
      ],
      "execution_count": 0,
      "outputs": []
    },
    {
      "cell_type": "code",
      "metadata": {
        "id": "dXRybX2l0VLM",
        "colab_type": "code",
        "colab": {}
      },
      "source": [
        "from keras.callbacks import ModelCheckpoint"
      ],
      "execution_count": 0,
      "outputs": []
    },
    {
      "cell_type": "code",
      "metadata": {
        "id": "esGsdFB61dxH",
        "colab_type": "code",
        "outputId": "9e072118-95ab-4bd8-81d5-a4106ca86572",
        "colab": {
          "base_uri": "https://localhost:8080/",
          "height": 833
        }
      },
      "source": [
        "inputr_tensor = lyr.Input((1,))\n",
        "input1_tensor = lyr.Input(X1_train.shape[1:])\n",
        "input2_tensor = lyr.Input(X2_train.shape[1:])\n",
        "\n",
        "\n",
        "#seq_embedding_layer_r = lyr.LSTM(256, activation='tanh')\n",
        "\n",
        "\n",
        "words_embedding_layer_1 = lyr.Embedding(X1_train.max() + 1, 100)\n",
        "seq_embedding_layer_1 = lyr.LSTM(256, activation='tanh')\n",
        "\n",
        "words_embedding_layer_2 = lyr.Embedding(X2_train.max() + 1, 100)\n",
        "seq_embedding_layer_2 = lyr.LSTM(256, activation='tanh')\n",
        "\n",
        "#seq_r = lyr.LSTM(256, activation='tanh')(inputr_tensor)\n",
        "seq_embedding_1 = lambda tensor: seq_embedding_layer_1(words_embedding_layer_1(tensor))\n",
        "seq_embedding_2 = lambda tensor: seq_embedding_layer_2(words_embedding_layer_2(tensor))\n",
        "\n",
        "merge_layer_1 = lyr.multiply([seq_embedding_1(input1_tensor), seq_embedding_1(input2_tensor),inputr_tensor])\n",
        "merge_layer_2 = lyr.multiply([seq_embedding_2(input1_tensor), seq_embedding_2(input2_tensor),inputr_tensor])\n",
        "\n",
        "# word_lyr_1=seq_embedding_1(input1_tensor)\n",
        "# word_lyr_2=seq_embedding_2(input2_tensor)\n",
        "\n",
        "\n",
        "#dense_layer_r = lyr.Dense(128, activation='sigmoid')(seq_embedding_layer_r)\n",
        "dense_layer_1 = lyr.Dense(128, activation='sigmoid')(merge_layer_1)\n",
        "dense_layer_2 = lyr.Dense(128, activation='sigmoid')(merge_layer_2)\n",
        "\n",
        "concat_layer = lyr.concatenate([dense_layer_1, dense_layer_2])\n",
        "\n",
        "dropout_layer_first=lyr.Dropout(.5)(concat_layer)\n",
        "\n",
        "fc_dense = lyr.Dense(128, activation='sigmoid')(dropout_layer_first)\n",
        "\n",
        "dropout_layer_second=lyr.Dropout(.5)(fc_dense)\n",
        "\n",
        "ouput_layer = lyr.Dense(1, activation='sigmoid')(dropout_layer_second)\n",
        "\n",
        "model = Model([inputr_tensor, input1_tensor, input2_tensor], ouput_layer)\n",
        "\n",
        "model.compile(loss='binary_crossentropy', optimizer='adam')\n",
        "checkpointer = ModelCheckpoint(filepath=\"weights.hdf5\", verbose=1, save_best_only=True)\n",
        "model.summary()"
      ],
      "execution_count": 0,
      "outputs": [
        {
          "output_type": "stream",
          "text": [
            "__________________________________________________________________________________________________\n",
            "Layer (type)                    Output Shape         Param #     Connected to                     \n",
            "==================================================================================================\n",
            "input_14 (InputLayer)           (None, 10)           0                                            \n",
            "__________________________________________________________________________________________________\n",
            "input_15 (InputLayer)           (None, 10)           0                                            \n",
            "__________________________________________________________________________________________________\n",
            "embedding_9 (Embedding)         (None, 10, 100)      1000000     input_14[0][0]                   \n",
            "                                                                 input_15[0][0]                   \n",
            "__________________________________________________________________________________________________\n",
            "embedding_10 (Embedding)        (None, 10, 100)      1000000     input_14[0][0]                   \n",
            "                                                                 input_15[0][0]                   \n",
            "__________________________________________________________________________________________________\n",
            "lstm_9 (LSTM)                   (None, 256)          365568      embedding_9[0][0]                \n",
            "                                                                 embedding_9[1][0]                \n",
            "__________________________________________________________________________________________________\n",
            "input_13 (InputLayer)           (None, 1)            0                                            \n",
            "__________________________________________________________________________________________________\n",
            "lstm_10 (LSTM)                  (None, 256)          365568      embedding_10[0][0]               \n",
            "                                                                 embedding_10[1][0]               \n",
            "__________________________________________________________________________________________________\n",
            "multiply_9 (Multiply)           (None, 256)          0           lstm_9[0][0]                     \n",
            "                                                                 lstm_9[1][0]                     \n",
            "                                                                 input_13[0][0]                   \n",
            "__________________________________________________________________________________________________\n",
            "multiply_10 (Multiply)          (None, 256)          0           lstm_10[0][0]                    \n",
            "                                                                 lstm_10[1][0]                    \n",
            "                                                                 input_13[0][0]                   \n",
            "__________________________________________________________________________________________________\n",
            "dense_17 (Dense)                (None, 128)          32896       multiply_9[0][0]                 \n",
            "__________________________________________________________________________________________________\n",
            "dense_18 (Dense)                (None, 128)          32896       multiply_10[0][0]                \n",
            "__________________________________________________________________________________________________\n",
            "concatenate_5 (Concatenate)     (None, 256)          0           dense_17[0][0]                   \n",
            "                                                                 dense_18[0][0]                   \n",
            "__________________________________________________________________________________________________\n",
            "dropout_9 (Dropout)             (None, 256)          0           concatenate_5[0][0]              \n",
            "__________________________________________________________________________________________________\n",
            "dense_19 (Dense)                (None, 128)          32896       dropout_9[0][0]                  \n",
            "__________________________________________________________________________________________________\n",
            "dropout_10 (Dropout)            (None, 128)          0           dense_19[0][0]                   \n",
            "__________________________________________________________________________________________________\n",
            "dense_20 (Dense)                (None, 1)            129         dropout_10[0][0]                 \n",
            "==================================================================================================\n",
            "Total params: 2,829,953\n",
            "Trainable params: 2,829,953\n",
            "Non-trainable params: 0\n",
            "__________________________________________________________________________________________________\n"
          ],
          "name": "stdout"
        }
      ]
    },
    {
      "cell_type": "code",
      "metadata": {
        "id": "RPWiN0UI3IVf",
        "colab_type": "code",
        "outputId": "8b8cbabe-9a60-445a-f3b8-b2894dcc95fd",
        "colab": {
          "base_uri": "https://localhost:8080/",
          "height": 187
        }
      },
      "source": [
        "model.fit([Xr_train, X1_train, X2_train], y_train, \n",
        "          validation_data=([Xr_val, X1_val, X2_val], y_val), \n",
        "          batch_size=128, epochs=6, verbose=2, callbacks=[checkpointer])"
      ],
      "execution_count": 0,
      "outputs": [
        {
          "output_type": "stream",
          "text": [
            "Train on 283003 samples, validate on 121287 samples\n",
            "Epoch 1/6\n",
            " - 242s - loss: 0.3401 - val_loss: 0.3945\n",
            "\n",
            "Epoch 00001: val_loss did not improve from 0.39201\n",
            "Epoch 2/6\n",
            " - 243s - loss: 0.3209 - val_loss: 0.4006\n",
            "\n",
            "Epoch 00002: val_loss did not improve from 0.39201\n",
            "Epoch 3/6\n"
          ],
          "name": "stdout"
        }
      ]
    },
    {
      "cell_type": "code",
      "metadata": {
        "id": "aMSTyS0U8D53",
        "colab_type": "code",
        "colab": {}
      },
      "source": [
        "\n",
        "Xr_test = df_all[df_all['test_id'].notnull()]['q1_q2_same_word_ratio']\n",
        "X1_test = create_padded_seqs(df_all[df_all['test_id'].notnull()]['clean_question1'])\n",
        "X2_test = create_padded_seqs(df_all[df_all['test_id'].notnull()]['clean_question2'])\n"
      ],
      "execution_count": 0,
      "outputs": []
    },
    {
      "cell_type": "code",
      "metadata": {
        "id": "sJnF0ydrpn4-",
        "colab_type": "code",
        "outputId": "de2bf9ac-520d-4e0b-c021-9e15158e6913",
        "colab": {
          "base_uri": "https://localhost:8080/",
          "height": 34
        }
      },
      "source": [
        "model.load_weights('weights.hdf5')\n",
        "F_test = model.predict([Xr_test, X1_test, X2_test], batch_size=128, verbose=1)\n"
      ],
      "execution_count": 0,
      "outputs": [
        {
          "output_type": "stream",
          "text": [
            "2345796/2345796 [==============================] - 591s 252us/step\n"
          ],
          "name": "stdout"
        }
      ]
    },
    {
      "cell_type": "code",
      "metadata": {
        "id": "8SNPAqzXaTBZ",
        "colab_type": "code",
        "colab": {}
      },
      "source": [
        "df_sub = pd.DataFrame({\n",
        "        'test_id': df_all[df_all['test_id'].notnull()]['test_id'].apply(int).values,\n",
        "        'is_duplicate': list(F_test[:, 0])\n",
        "    }).set_index('test_id')\n"
      ],
      "execution_count": 0,
      "outputs": []
    },
    {
      "cell_type": "code",
      "metadata": {
        "id": "0hOOLvcLP5qA",
        "colab_type": "code",
        "colab": {}
      },
      "source": [
        "df_sub.to_csv('Kanter_submission_0709_5.csv')\n"
      ],
      "execution_count": 0,
      "outputs": []
    },
    {
      "cell_type": "code",
      "metadata": {
        "id": "8IYENUF5WNiJ",
        "colab_type": "code",
        "outputId": "9bee3f43-78e8-4b55-9a11-1385c5b8716b",
        "colab": {
          "base_uri": "https://localhost:8080/",
          "height": 88
        }
      },
      "source": [
        "!kaggle competitions submit -c quora-question-pairs -f Kanter_submission_0709_5.csv -m \"Message\"\n"
      ],
      "execution_count": 0,
      "outputs": [
        {
          "output_type": "stream",
          "text": [
            "Warning: Your Kaggle API key is readable by other users on this system! To fix this, you can run 'chmod 600 /root/.kaggle/kaggle.json'\n",
            "100% 62.2M/62.2M [00:05<00:00, 11.6MB/s]\n",
            "Successfully submitted to Quora Question Pairs"
          ],
          "name": "stdout"
        }
      ]
    },
    {
      "cell_type": "code",
      "metadata": {
        "id": "r-ut6-MtH5_L",
        "colab_type": "code",
        "colab": {}
      },
      "source": [
        ""
      ],
      "execution_count": 0,
      "outputs": []
    },
    {
      "cell_type": "code",
      "metadata": {
        "id": "GRfnSwMjH6FM",
        "colab_type": "code",
        "colab": {}
      },
      "source": [
        ""
      ],
      "execution_count": 0,
      "outputs": []
    },
    {
      "cell_type": "code",
      "metadata": {
        "id": "nfhPZ2uY8Plj",
        "colab_type": "code",
        "colab": {}
      },
      "source": [
        ""
      ],
      "execution_count": 0,
      "outputs": []
    },
    {
      "cell_type": "code",
      "metadata": {
        "id": "EaQm5oDF8Pjl",
        "colab_type": "code",
        "colab": {}
      },
      "source": [
        "# inputr_tensor = lyr.Input(Xr_train.shape[1:])\n",
        "# input1_tensor = lyr.Input(X1_train.shape[1:])\n",
        "# input2_tensor = lyr.Input(X2_train.shape[1:])\n",
        "\n",
        "# words_embedding_layer = lyr.Embedding(X1_train.max() + 1, 100)\n",
        "# seq_embedding_layer = lyr.LSTM(256, activation='tanh')\n",
        "\n",
        "# seq_embedding = lambda tensor: seq_embedding_layer(words_embedding_layer(tensor))\n",
        "\n",
        "# merge_layer = lyr.multiply([seq_embedding(input1_tensor), seq_embedding(input2_tensor)])\n",
        "# merge_layer_all = lyr.multiply([merge_layer,inputr_tensor ])\n",
        "\n",
        "# dense1_layer = lyr.Dense(16, activation='sigmoid')(merge_layer_all)\n",
        "# ouput_layer = lyr.Dense(1, activation='sigmoid')(dense1_layer)\n",
        "\n",
        "# model = Model([input1_tensor, input2_tensor], ouput_layer)\n",
        "\n",
        "# model.compile(loss='binary_crossentropy', optimizer='adam')\n",
        "# model.summary()"
      ],
      "execution_count": 0,
      "outputs": []
    }
  ]
}